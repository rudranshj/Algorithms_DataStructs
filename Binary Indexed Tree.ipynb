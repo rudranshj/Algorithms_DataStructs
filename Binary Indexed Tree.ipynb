{
 "cells": [
  {
   "cell_type": "markdown",
   "metadata": {},
   "source": [
    "## Binary Indexed Tree"
   ]
  },
  {
   "cell_type": "code",
   "execution_count": 16,
   "metadata": {},
   "outputs": [],
   "source": [
    "class BIT:\n",
    "    def __init__(self,nums):\n",
    "        n=len(nums)\n",
    "        self.BITTree = [0]*(n+1)\n",
    "        for i in range(n):\n",
    "            self.update(i,nums[i])\n",
    "            \n",
    "    def update(self,i,val):\n",
    "        i+=1\n",
    "        while i<len(self.BITTree):\n",
    "            self.BITTree[i]+=val\n",
    "            i += i & (-i)\n",
    "    \n",
    "    def getSum(self,i):\n",
    "        s=0\n",
    "        i+=1\n",
    "        while i>0:\n",
    "            s+= self.BITTree[i]\n",
    "            i -= i & (-i)\n",
    "        return s"
   ]
  },
  {
   "cell_type": "code",
   "execution_count": 25,
   "metadata": {},
   "outputs": [
    {
     "name": "stdout",
     "output_type": "stream",
     "text": [
      "0 2\n",
      "1 3\n",
      "2 4\n",
      "3 7\n",
      "4 9\n",
      "5 12\n",
      "6 16\n",
      "7 21\n",
      "---after the update----\n",
      "0 2\n",
      "1 3\n",
      "2 4\n",
      "3 7\n",
      "4 9\n",
      "5 112\n",
      "6 116\n",
      "7 121\n"
     ]
    }
   ],
   "source": [
    "nums=[2, 1, 1, 3, 2, 3, 4, 5, 6, 7, 8, 9]\n",
    "binIndTree = BIT(nums)\n",
    "\n",
    "\n",
    "## to verify use a dp array:\n",
    "# dp=[0]*(len(nums)+1)\n",
    "# for i in range(len(nums)):\n",
    "#     dp[i+1]=dp[i]+nums[i]\n",
    "\n",
    "# inds = [0,1,2,4,3]\n",
    "# for i in inds:\n",
    "#     print(binIndTree.getSum(i),dp[i+1])\n",
    "\n",
    "\n",
    "inds =[0,1,2,3,4,5,6,7]\n",
    "for i in inds:\n",
    "    print(i,binIndTree.getSum(i))\n",
    "\n",
    "print(\"---after the update----\")\n",
    "binIndTree.update(5,100)\n",
    "for i in inds:\n",
    "    print(i,binIndTree.getSum(i))"
   ]
  },
  {
   "cell_type": "code",
   "execution_count": null,
   "metadata": {},
   "outputs": [],
   "source": []
  },
  {
   "cell_type": "code",
   "execution_count": null,
   "metadata": {},
   "outputs": [],
   "source": []
  }
 ],
 "metadata": {
  "kernelspec": {
   "display_name": "Python 3",
   "language": "python",
   "name": "python3"
  },
  "language_info": {
   "codemirror_mode": {
    "name": "ipython",
    "version": 3
   },
   "file_extension": ".py",
   "mimetype": "text/x-python",
   "name": "python",
   "nbconvert_exporter": "python",
   "pygments_lexer": "ipython3",
   "version": "3.7.6"
  }
 },
 "nbformat": 4,
 "nbformat_minor": 4
}
